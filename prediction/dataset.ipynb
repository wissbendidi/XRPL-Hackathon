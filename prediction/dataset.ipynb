{
 "cells": [
  {
   "cell_type": "code",
   "execution_count": 1,
   "metadata": {},
   "outputs": [],
   "source": [
    "import pandas as pd\n",
    "import random\n",
    "from datetime import datetime, timedelta"
   ]
  },
  {
   "cell_type": "code",
   "execution_count": 2,
   "metadata": {},
   "outputs": [],
   "source": [
    "\n",
    "# Set up date range and locations\n",
    "dates = [datetime.today() - timedelta(days=i) for i in range(30)]\n",
    "locations = ['Paris', 'London', 'New York', 'Tokyo']\n",
    "\n",
    "# Generate random weather data and recommendations\n",
    "data = []\n",
    "for date in dates:\n",
    "    for location in locations:\n",
    "        temperature = random.randint(10, 30)\n",
    "        humidity = random.randint(30, 80)\n",
    "        wind_speed = random.randint(0, 25)\n",
    "        precipitation = random.choice([0, 20, 50, 70])\n",
    "        condition = random.choice(['Sunny', 'Clear', 'Cloudy', 'Rainy'])\n",
    "        \n",
    "        # Activity recommendation based on conditions\n",
    "        if condition in ['Sunny', 'Clear'] and temperature > 20:\n",
    "            activity = 'Swimming'\n",
    "        elif condition in ['Sunny', 'Clear'] and 15 <= temperature <= 25:\n",
    "            activity = 'Cycling'\n",
    "        elif condition in ['Cloudy', 'Clear'] and temperature >= 10:\n",
    "            activity = 'Walking'\n",
    "        else:\n",
    "            activity = 'Indoor workout'\n",
    "        \n",
    "        data.append([date.strftime('%Y-%m-%d'), location, temperature, humidity, wind_speed, precipitation, condition, activity])\n"
   ]
  },
  {
   "cell_type": "code",
   "execution_count": 3,
   "metadata": {},
   "outputs": [],
   "source": [
    "\n",
    "# Create DataFrame and save to CSV\n",
    "df = pd.DataFrame(data, columns=['Date', 'Location', 'Temperature (°C)', 'Humidity (%)', 'Wind Speed (km/h)', 'Precipitation (%)', 'Weather Condition', 'Recommended Activity'])\n",
    "df.to_csv('activity_recommendations.csv', index=False)\n"
   ]
  }
 ],
 "metadata": {
  "kernelspec": {
   "display_name": "base",
   "language": "python",
   "name": "python3"
  },
  "language_info": {
   "codemirror_mode": {
    "name": "ipython",
    "version": 3
   },
   "file_extension": ".py",
   "mimetype": "text/x-python",
   "name": "python",
   "nbconvert_exporter": "python",
   "pygments_lexer": "ipython3",
   "version": "3.11.7"
  }
 },
 "nbformat": 4,
 "nbformat_minor": 2
}
