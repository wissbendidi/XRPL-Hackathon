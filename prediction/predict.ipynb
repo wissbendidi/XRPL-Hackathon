{
 "cells": [
  {
   "cell_type": "code",
   "execution_count": 1,
   "metadata": {},
   "outputs": [
    {
     "name": "stderr",
     "output_type": "stream",
     "text": [
      "WARNING:absl:Compiled the loaded model, but the compiled metrics have yet to be built. `model.compile_metrics` will be empty until you train or evaluate the model.\n"
     ]
    }
   ],
   "source": [
    "from tensorflow.keras.models import load_model\n",
    "import pandas as pd\n",
    "import pandas as pd\n",
    "from sklearn.model_selection import train_test_split\n",
    "from sklearn.preprocessing import LabelEncoder, StandardScaler\n",
    "\n",
    "# Load model from HDF5 file\n",
    "loaded_model_h5 = load_model(\"activity_model.h5\")"
   ]
  },
  {
   "cell_type": "code",
   "execution_count": 2,
   "metadata": {},
   "outputs": [],
   "source": [
    "# Load dataset\n",
    "df = pd.read_csv('activity_recommendations.csv')\n",
    "\n",
    "# Encoding categorical features\n",
    "label_enc = LabelEncoder()\n",
    "df['Location'] = label_enc.fit_transform(df['Location'])\n",
    "df['Weather Condition'] = label_enc.fit_transform(df['Weather Condition'])\n",
    "df['Recommended Activity'] = label_enc.fit_transform(df['Recommended Activity'])\n",
    "\n",
    "# Separate features and target\n",
    "X = df[['Temperature (°C)', 'Humidity (%)', 'Wind Speed (km/h)', 'Precipitation (%)', 'Location', 'Weather Condition']]\n",
    "y = df['Recommended Activity']\n",
    "\n",
    "# Scaling features\n",
    "scaler = StandardScaler()\n",
    "X = scaler.fit_transform(X)\n"
   ]
  },
  {
   "cell_type": "code",
   "execution_count": 16,
   "metadata": {},
   "outputs": [
    {
     "name": "stdout",
     "output_type": "stream",
     "text": [
      "\u001b[1m1/1\u001b[0m \u001b[32m━━━━━━━━━━━━━━━━━━━━\u001b[0m\u001b[37m\u001b[0m \u001b[1m0s\u001b[0m 13ms/step\n",
      "Recommended Activity: Indoor workout\n"
     ]
    },
    {
     "name": "stderr",
     "output_type": "stream",
     "text": [
      "/opt/anaconda3/lib/python3.11/site-packages/sklearn/base.py:439: UserWarning: X does not have valid feature names, but StandardScaler was fitted with feature names\n",
      "  warnings.warn(\n"
     ]
    }
   ],
   "source": [
    "import numpy as np\n",
    "\n",
    "# Example new data for prediction (similar structure as X)\n",
    "new_data = np.array([[24,48,25,50, 0, 2]])  # Example values for temperature, humidity, etc.\n",
    "new_data = scaler.transform(new_data)\n",
    "\n",
    "# Predict\n",
    "predicted_activity = loaded_model_h5.predict(new_data)\n",
    "predicted_label = label_enc.inverse_transform([np.argmax(predicted_activity)])\n",
    "\n",
    "print(f\"Recommended Activity: {predicted_label[0]}\")"
   ]
  }
 ],
 "metadata": {
  "kernelspec": {
   "display_name": "base",
   "language": "python",
   "name": "python3"
  },
  "language_info": {
   "codemirror_mode": {
    "name": "ipython",
    "version": 3
   },
   "file_extension": ".py",
   "mimetype": "text/x-python",
   "name": "python",
   "nbconvert_exporter": "python",
   "pygments_lexer": "ipython3",
   "version": "3.11.7"
  }
 },
 "nbformat": 4,
 "nbformat_minor": 2
}
