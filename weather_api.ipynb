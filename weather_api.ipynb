{
 "cells": [
  {
   "cell_type": "code",
   "execution_count": null,
   "metadata": {},
   "outputs": [],
   "source": [
    "import requests\n",
    "import numpy as np\n",
    "\n",
    "# Replace with your OpenWeatherMap API key\n",
    "API_KEY = \"YOUR_API_KEY\"\n",
    "CITY = \"London\"  # You can change the city\n",
    "UNIT = \"metric\"  # 'metric' for Celsius, 'imperial' for Fahrenheit\n",
    "\n",
    "# OpenWeatherMap API endpoint for current weather data\n",
    "URL = f\"http://api.openweathermap.org/data/2.5/weather?q={CITY}&appid={API_KEY}&units={UNIT}\"\n",
    "\n",
    "# Function to get weather data\n",
    "def get_weather_data():\n",
    "    response = requests.get(URL)\n",
    "    data = response.json()\n",
    "    \n",
    "    if response.status_code == 200:\n",
    "        # Extract relevant data from the API response\n",
    "        temperature = data['main']['temp']  # Temperature in Celsius\n",
    "        humidity = data['main']['humidity']  # Humidity percentage\n",
    "        wind_speed = data['wind']['speed']  # Wind speed in m/s\n",
    "        pressure = data['main']['pressure']  # Atmospheric pressure in hPa\n",
    "        cloudiness = data['clouds']['all']  # Cloudiness in percentage\n",
    "        precipitation = data.get('rain', {}).get('1h', 0)  # Precipitation in the last hour (if available)\n",
    "        \n",
    "        # Prepare your input for the model\n",
    "        # Example: [[temperature, humidity, wind_speed, pressure, cloudiness, precipitation]]\n",
    "        new_data = np.array([[temperature, humidity, wind_speed, pressure, cloudiness, precipitation]])\n",
    "        \n",
    "        return new_data\n",
    "    else:\n",
    "        print(\"Error fetching data\")\n",
    "        return None\n",
    "\n",
    "# Example: Get weather data for the city\n",
    "weather_data = get_weather_data()\n",
    "\n",
    "if weather_data is not None:\n",
    "    print(\"Weather Data for the Model: \")\n",
    "    print(weather_data)\n",
    "else:\n",
    "    print(\"Failed to retrieve data.\")\n"
   ]
  }
 ],
 "metadata": {
  "kernelspec": {
   "display_name": "base",
   "language": "python",
   "name": "python3"
  },
  "language_info": {
   "name": "python",
   "version": "3.11.7"
  }
 },
 "nbformat": 4,
 "nbformat_minor": 2
}
